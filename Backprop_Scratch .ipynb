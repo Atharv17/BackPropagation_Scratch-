{
 "cells": [
  {
   "cell_type": "markdown",
   "metadata": {
    "colab_type": "text",
    "id": "y871RZtRhCEH"
   },
   "source": [
    "# <font color='red'>BackPropagation</font>"
   ]
  },
  {
   "cell_type": "markdown",
   "metadata": {
    "colab_type": "text",
    "id": "0huUQ0byiI0I"
   },
   "source": [
    "## <font color='red'>Loading data </font>"
   ]
  },
  {
   "cell_type": "code",
   "execution_count": 0,
   "metadata": {
    "colab": {
     "base_uri": "https://localhost:8080/",
     "height": 52
    },
    "colab_type": "code",
    "id": "1hSje5CBgcUb",
    "outputId": "6286f878-8260-4b36-a7ae-7a4f1c47c162"
   },
   "outputs": [
    {
     "name": "stdout",
     "output_type": "stream",
     "text": [
      "(506, 6)\n",
      "(506, 5) (506,)\n"
     ]
    }
   ],
   "source": [
    "import pickle\n",
    "import numpy as np\n",
    "import math\n",
    "\n",
    "import matplotlib.pyplot as plt\n",
    "\n",
    "with open('data.pkl', 'rb') as f:\n",
    "    data = pickle.load(f)\n",
    "print(data.shape)\n",
    "X = data[:, :5]\n",
    "y = data[:, -1]\n",
    "print(X.shape, y.shape)"
   ]
  },
  {
   "cell_type": "markdown",
   "metadata": {
    "colab_type": "text",
    "id": "5JL-0soQistC"
   },
   "source": [
    "# <font color='red'>Computational graph</font>"
   ]
  },
  {
   "cell_type": "markdown",
   "metadata": {
    "colab_type": "text",
    "id": "nREnTTJ3i0Vd"
   },
   "source": [
    "<img src='https://i.imgur.com/seSGbNS.png'>"
   ]
  },
  {
   "cell_type": "markdown",
   "metadata": {
    "colab_type": "text",
    "id": "D54eDEv6jkO4"
   },
   "source": [
    "# <font color='red'>Task 1: Implementing backpropagation and Gradient checking </font>"
   ]
  },
  {
   "cell_type": "markdown",
   "metadata": {
    "colab_type": "text",
    "id": "2jecTyVRlh-6"
   },
   "source": [
    "\n",
    "*  <b><br>\n",
    "    *  Forward propagation</b><font color='blue'> def forward_propagation()</b></font><br><br>\n",
    "    For easy debugging, we will break the computational graph into 3 parts.\n",
    "\n",
    "    <font color='green'><b>Part 1</b></font></b>\n",
    "    <img src='https://i.imgur.com/0xUaxy6.png'><br><br>\n",
    "    <font color='green'><b>Part 2</b></font></b><br>\n",
    "    <img src='https://i.imgur.com/J29pAJL.png'><br><br>\n",
    "    <font color='green'><b>Part 3</b></font></b>\n",
    "    <img src='https://i.imgur.com/vMyCsd9.png'>\n",
    "\n",
    "    <pre>\n",
    "    "
   ]
  },
  {
   "cell_type": "markdown",
   "metadata": {
    "colab_type": "text",
    "id": "STS4NrQQc6OH"
   },
   "source": [
    " ## <font color='red'>Gradient clipping</font>"
   ]
  },
  {
   "cell_type": "markdown",
   "metadata": {
    "colab_type": "text",
    "id": "XY7ivRNzdPok"
   },
   "source": [
    "<b> Check this  <a href='https://towardsdatascience.com/how-to-debug-a-neural-network-with-gradient-checking-41deec0357a9'>blog link</a> for more details on Gradient clipping"
   ]
  },
  {
   "cell_type": "markdown",
   "metadata": {
    "colab_type": "text",
    "id": "BrsfpDoidtZ5"
   },
   "source": [
    " we know that the derivative of any function is\n",
    " \n",
    " $$\\lim_{\\epsilon\\to0}\\frac{f(x+\\epsilon)-f(x-\\epsilon)}{2\\epsilon}$$\n"
   ]
  },
  {
   "cell_type": "markdown",
   "metadata": {
    "colab_type": "text",
    "id": "vUcmt0kPd02f"
   },
   "source": [
    "*  The definition above can be used as a numerical approximation of the derivative. Taking an epsilon small enough, the calculated approximation will have an error in the range of epsilon squared. \n",
    "\n",
    "*  In other words, if epsilon is 0.001, the approximation will be off by 0.00001.\n",
    "\n",
    "Therefore, we can use this to approximate the gradient, and in turn make sure that backpropagation is implemented properly. This forms the basis of <b>gradient checking!</b>"
   ]
  },
  {
   "cell_type": "markdown",
   "metadata": {
    "colab_type": "text",
    "id": "pFSu16KCeU0x"
   },
   "source": [
    "## <Font color='blue'>Gradient checking example</font>"
   ]
  },
  {
   "cell_type": "markdown",
   "metadata": {
    "colab_type": "text",
    "id": "Gz0mmT_xecfC"
   },
   "source": [
    "<font >\n",
    "lets understand the concept with a simple example:\n",
    "$f(w1,w2,x1,x2)=w_{1}^{2} . x_{1} + w_{2} . x_{2}$ \n",
    "\n",
    "from the above function , lets assume $w_{1}=1$, $w_{2}=2$, $x_{1}=3$, $x_{2}=4$ the gradient of $f$ w.r.t $w_{1}$ is\n",
    "\n",
    "\\begin{array} {lcl}\n",
    "\\frac{df}{dw_{1}} = dw_{1} &=&2.w_{1}.x_{1} \\\\& = &2.1.3\\\\& = &6\n",
    "\\end{array}\n",
    "\n",
    "\n",
    "let calculate the aproximate gradient of $w_{1}$ as mentinoned in the above formula and considering $\\epsilon=0.0001$\n",
    "\n",
    "\\begin{array} {lcl}\n",
    "dw_1^{approx} & = & \\frac{f(w1+\\epsilon,w2,x1,x2)-f(w1-\\epsilon,w2,x1,x2)}{2\\epsilon} \\\\ & = & \\frac{((1+0.0001)^{2} . 3 + 2 . 4) - ((1-0.0001)^{2} . 3 + 2 . 4)}{2\\epsilon} \\\\ & = & \\frac{(1.00020001 . 3 + 2 . 4) - (0.99980001. 3 + 2 . 4)}{2*0.0001} \\\\ & = & \\frac{(11.00060003) - (10.99940003)}{0.0002}\\\\ & = & 5.99999999999\n",
    "\\end{array}\n",
    "\n",
    "Then, we apply the following formula for gradient check: <i>gradient_check</i> = \n",
    "$\\frac{\\left\\Vert\\left (dW-dW^{approx}\\rm\\right) \\right\\Vert_2}{\\left\\Vert\\left (dW\\rm\\right) \\right\\Vert_2+\\left\\Vert\\left (dW^{approx}\\rm\\right) \\right\\Vert_2}$\n",
    "\n",
    "The equation above is basically the Euclidean distance normalized by the sum of the norm of the vectors. We use normalization in case that one of the vectors is very small.\n",
    "As a value for epsilon, we usually opt for 1e-7. Therefore, if gradient check return a value less than 1e-7, then it means that backpropagation was implemented correctly. Otherwise, there is potentially a mistake in your implementation. If the value exceeds 1e-3, then you are sure that the code is not correct.\n",
    "\n",
    "in our example: <i>gradient_check</i> $ = \\frac{(6 - 5.999999999994898)}{(6 + 5.999999999994898)} = 4.2514140356330737e^{-13}$\n",
    "\n",
    "you can mathamatically derive the same thing like this\n",
    "\n",
    "\\begin{array} {lcl}\n",
    "dw_1^{approx} & = & \\frac{f(w1+\\epsilon,w2,x1,x2)-f(w1-\\epsilon,w2,x1,x2)}{2\\epsilon} \\\\ & = & \\frac{((w_{1}+\\epsilon)^{2} . x_{1} + w_{2} . x_{2}) - ((w_{1}-\\epsilon)^{2} . x_{1} + w_{2} . x_{2})}{2\\epsilon} \\\\ & = & \\frac{4. \\epsilon.w_{1}. x_{1}}{2\\epsilon} \\\\ & = &  2.w_{1}.x_{1}\n",
    "\\end{array}\n"
   ]
  },
  {
   "cell_type": "markdown",
   "metadata": {
    "colab_type": "text",
    "id": "QfmV3FUgSrBo"
   },
   "source": [
    "## <font color='blue'>Forward propagation </font>"
   ]
  },
  {
   "cell_type": "code",
   "execution_count": 0,
   "metadata": {
    "colab": {},
    "colab_type": "code",
    "id": "kyVmK2smGQ__"
   },
   "outputs": [],
   "source": [
    "import math"
   ]
  },
  {
   "cell_type": "code",
   "execution_count": 0,
   "metadata": {
    "colab": {},
    "colab_type": "code",
    "id": "5_pBivcY30qf"
   },
   "outputs": [],
   "source": [
    "def sigmoid(z):\n",
    "    '''In this function, we will compute the sigmoid(z)'''\n",
    "    # we can use this function in forward and backward propagation\n",
    "    sig = 1/(1+math.exp(-z))\n",
    "    return sig\n",
    "    \n",
    "def forward_propagation(x, y, w):\n",
    "        '''In this function, we will compute the forward propagation '''\n",
    "        # X: input data point, note that in this assignment you are having 5-d data points\n",
    "        # y: output varible\n",
    "        # W: weight array, its of length 9, W[0] corresponds to w1 in graph, W[1] corresponds to w2 in graph,..., W[8] corresponds to w9 in graph. \n",
    "        # you have to return the following variables\n",
    "        forward_dict= dict()\n",
    "        # exp= part1 (compute the forward propagation until exp and then store the values in exp)\n",
    "        z1 = ((w[0]*x[0]+w[1]*x[1])**2+w[5])\n",
    "        part1 = math.exp(z1)\n",
    "        forward_dict['exp'] = part1\n",
    "        \n",
    "        # tanh =part2(compute the forward propagation until tanh and then store the values in tanh)\n",
    "        z2 = part1 +w[6]\n",
    "        part2 = math.tanh(z2)\n",
    "        forward_dict['tanh']=part2\n",
    "        \n",
    "        \n",
    "        # sig = part3(compute the forward propagation until sigmoid and then store the values in sig)\n",
    "        z3 =(math.sin(w[2]*x[2])*(w[3]*x[3]+w[4]*x[4]) + w[7])\n",
    "        part3 = sigmoid(z3)\n",
    "        forward_dict['sigmoid']= part3\n",
    "        \n",
    "        # now compute remaining values from computional graph and get y'\n",
    "        y_dash = part3*w[8]+part2\n",
    "        \n",
    "        # write code to compute the value of L=(y-y')^2\n",
    "        Loss = (y-y_dash)**2\n",
    "        forward_dict['loss'] = Loss\n",
    "        \n",
    "        # compute derivative of L  w.r.to Y' and store it in dl\n",
    "        dl = -2*(y-y_dash)\n",
    "        forward_dict['dl'] = dl\n",
    "        \n",
    "        # Create a dictionary to store all the intermediate values\n",
    "        \n",
    "        \n",
    "        # store L, exp,tanh,sig variables\n",
    "        return forward_dict#(dictionary, which you might need to use for back propagation)"
   ]
  },
  {
   "cell_type": "markdown",
   "metadata": {
    "colab_type": "text",
    "id": "obOaAqj3Sxvb"
   },
   "source": [
    "## <font color='blue'>Backward propagation</font>"
   ]
  },
  {
   "cell_type": "code",
   "execution_count": 0,
   "metadata": {
    "colab": {},
    "colab_type": "code",
    "id": "dS49ykcOGhIv"
   },
   "outputs": [],
   "source": [
    "def backward_propagation(x,W,dict1):\n",
    "    dw  = dict()\n",
    "    '''In this function, we will compute the backward propagation '''\n",
    "    # L: the loss we calculated for the current point\n",
    "    # dictionary: the outputs of the forward_propagation() function\n",
    "    # write code to compute the gradients of each weight [w1,w2,w3,...,w9]\n",
    "    # Hint: you can use dict type to store the required variables \n",
    "    # dw1 = # in dw1 compute derivative of L w.r.to w1\n",
    "    # dw2 = # in dw2 compute derivative of L w.r.to w2\n",
    "    # dw3 = # in dw3 compute derivative of L w.r.to w3\n",
    "    # dw4 = # in dw4 compute derivative of L w.r.to w4\n",
    "    # dw5 = # in dw5 compute derivative of L w.r.to w5\n",
    "    # dw6 = # in dw6 compute derivative of L w.r.to w6\n",
    "    # dw7 = # in dw7 compute derivative of L w.r.to w7\n",
    "    # dw8 = # in dw8 compute derivative of L w.r.to w8\n",
    "    # dw9 = # in dw9 compute derivative of L w.r.to w9\n",
    "    dw1 = (dict1['dl'])*(1-dict1['tanh']**2)*dict1['exp']*(2*x[0]*(w[0]*x[0]+w[1]*x[1]))\n",
    "    dw['dw1'] = dw1\n",
    "    \n",
    "    dw2 = (dict1['dl'])*(1-dict1['tanh']**2)*dict1['exp']*(2*x[1]*(w[0]*x[0]+w[1]*x[1]))\n",
    "    dw['dw2'] =dw2,\n",
    "    \n",
    "    dw3 = (dict1['dl'])*(dict1['sigmoid']*(1-dict1['sigmoid'])) *(x[3]*w[3]+x[4]*w[4])*(math.cos(w[2]*x[2]))*x[2]*w[8]\n",
    "    dw['dw3'] = dw3\n",
    "    \n",
    "    dw4 = (dict1['dl'])*(dict1['sigmoid']*(1-dict1['sigmoid'])) *(math.sin(w[2]*x[2]))*x[3]*w[8]\n",
    "    dw['dw4'] = dw4\n",
    "    \n",
    "    dw5 = (dict1['dl'])*(dict1['sigmoid']*(1-dict1['sigmoid'])) *(math.sin(w[2]*x[2]))*x[4]*w[8]\n",
    "    dw['dw5'] = dw5\n",
    "    \n",
    "    dw6 = (dict1['dl'])*(1-dict1['tanh']**2)*dict1['exp']\n",
    "    dw['dw6'] =dw6\n",
    "    \n",
    "    dw7 = (dict1['dl'])*(1-dict1['tanh']**2)   \n",
    "    dw['dw7'] = dw7\n",
    "    \n",
    "\n",
    "    \n",
    "\n",
    "    \n",
    "\n",
    "    \n",
    "    dw8 = (dict1['dl'])*(dict1['sigmoid']*(1-dict1['sigmoid'])) * w[8]\n",
    "    dw['dw8'] = dw8\n",
    "    \n",
    "    dw9 = (dict1['dl'])*(dict1['sigmoid'])\n",
    "    dw['dw9'] = dw9\n",
    "    \n",
    "    \n",
    "    \n",
    "    return dw"
   ]
  },
  {
   "cell_type": "markdown",
   "metadata": {
    "colab_type": "text",
    "id": "1rfHHXZwgwo6"
   },
   "source": [
    "## <font color='blue'>gradient checking</font>"
   ]
  },
  {
   "cell_type": "code",
   "execution_count": 0,
   "metadata": {
    "colab": {},
    "colab_type": "code",
    "id": "oh8wj1yjGhOi"
   },
   "outputs": [],
   "source": [
    "def gradient_checking(x,y,W):\n",
    "    \n",
    "    \n",
    "    # compute the L value using forward_propagation()\n",
    "    \n",
    "    forward = forward_propagation(x, y, W)\n",
    "    \n",
    "    # compute the gradients of W using backword_propagation()\n",
    "    backward = backward_propagation(x,W,forward)\n",
    "    grad = [j for i,j in backward.items()]\n",
    "    print(grad)\n",
    "    dw_approx_list= []\n",
    "    check = []\n",
    "    \n",
    "    for i in range(9):\n",
    "        w1 = W.copy()\n",
    "        \n",
    "        w1[i] = w1[i]+0.0001\n",
    "        l_plus= forward_propagation(x, y, w1)\n",
    "        w2 = W.copy()\n",
    "        w2[i] = w2[i]-0.0001\n",
    "        \n",
    "        l_minus = forward_propagation(x, y, w2)\n",
    "        \n",
    "        dw_approx_list.append((l_plus['loss'] - l_minus['loss'])/(2*0.0001))\n",
    "    print(dw_approx_list)\n",
    "    for j in range(len(W)):\n",
    "        num = np.linalg.norm(grad[j] -dw_approx_list[j])\n",
    "        \n",
    "        denom = np.linalg.norm(grad[j]) + np.linalg.norm(dw_approx_list[j])\n",
    "        \n",
    "        diff = num / denom \n",
    "        \n",
    "        \n",
    "        if diff <= 1e-7:\n",
    "            \n",
    "            check.append(True)\n",
    "        else:\n",
    "            \n",
    "            check.append(False)\n",
    "    return check"
   ]
  },
  {
   "cell_type": "code",
   "execution_count": 0,
   "metadata": {
    "colab": {
     "base_uri": "https://localhost:8080/",
     "height": 90
    },
    "colab_type": "code",
    "id": "t34PNrRIGRAg",
    "outputId": "9770b6cc-02a8-41c2-bf5d-a85cc34b83d2"
   },
   "outputs": [
    {
     "name": "stdout",
     "output_type": "stream",
     "text": [
      "[-0.22973323498702003, (-0.021407614717752925,), -0.005625405580266319, -0.004657941222712423, -0.0010077228498574246, -0.6334751873437471, -0.561941842854033, -0.04806288407316517, -1.0181044360187037]\n",
      "[-0.22973323022201786, -0.02140761471536301, -0.0056254055608162545, -0.004657941222729889, -0.0010077228507210378, -0.6334751863795729, -0.5619418463920223, -0.0480628840343611, -1.0181044360180191]\n",
      "[True, True, True, True, True, True, True, True, True]\n"
     ]
    }
   ],
   "source": [
    "W = np.ones(9)*0.1\n",
    "a = gradient_checking(X[0],y[0],W)\n",
    "print(a)"
   ]
  },
  {
   "cell_type": "markdown",
   "metadata": {
    "colab_type": "text",
    "id": "jJzI-vnPk1dB"
   },
   "source": [
    "<font color='blue'>Algorithm with Vanilla update of weights</font>"
   ]
  },
  {
   "cell_type": "code",
   "execution_count": 0,
   "metadata": {
    "colab": {},
    "colab_type": "code",
    "id": "xJspU6ZuGhRQ"
   },
   "outputs": [],
   "source": [
    "alpha = 0.0001\n",
    "w=np.ones(9)*0.1 \n",
    "loss_vanilla = []\n",
    "epochs = []\n",
    "for n in range(100):\n",
    "    \n",
    "    for i in range(X.shape[0]):\n",
    "        f = forward_propagation(X[i],y[i],w)\n",
    "        b = backward_propagation(X[i],w,f)\n",
    "        dw = [j for i,j in b.items()]\n",
    "        for w_i in range(len(w)):\n",
    "            w[w_i] = w[w_i] - alpha*dw[w_i]\n",
    "            \n",
    "\n",
    "        ##w[0] -= alpha*b['dw1']\n",
    "        #w[1] -= alpha*b['dw2']\n",
    "        #w[2] -= alpha*b['dw3']\n",
    "        #w[3] -= alpha*b['dw4']\n",
    "        #w[4] -= alpha*b['dw5']\n",
    "        #w[5] -= alpha*b['dw6']\n",
    "        #w[6] -= alpha*b['dw7']\n",
    "        #w[7] -= alpha*b['dw8']\n",
    "        #w[8] -= alpha*b['dw9']\n",
    "        \n",
    "    loss_vanilla.append(f['loss'])\n",
    "    epochs.append(n)       "
   ]
  },
  {
   "cell_type": "markdown",
   "metadata": {
    "colab_type": "text",
    "id": "UlTLXrvmlR26"
   },
   "source": [
    "<font color='blue'>Plot between epochs and loss</font>"
   ]
  },
  {
   "cell_type": "code",
   "execution_count": 0,
   "metadata": {
    "colab": {},
    "colab_type": "code",
    "id": "CjTCVUIoGhTo",
    "outputId": "8b822d93-19d0-4721-cfc7-1db745c14821"
   },
   "outputs": [
    {
     "data": {
      "text/plain": [
       "Text(0.5, 1.0, 'epochs vs loss')"
      ]
     },
     "execution_count": 13,
     "metadata": {
      "tags": []
     },
     "output_type": "execute_result"
    },
    {
     "data": {
      "image/png": "[encoded data removed]",
      "text/plain": [
       "<Figure size 432x288 with 1 Axes>"
      ]
     },
     "metadata": {
      "needs_background": "light",
      "tags": []
     },
     "output_type": "display_data"
    }
   ],
   "source": [
    "plt.plot(epochs,loss_vanilla)\n",
    "plt.grid()\n",
    "plt.xlabel('Epochs')\n",
    "plt.ylabel('loss')\n",
    "plt.title('epochs vs loss')"
   ]
  },
  {
   "cell_type": "markdown",
   "metadata": {
    "colab_type": "text",
    "id": "cv_hZFWalS2z"
   },
   "source": [
    "###<font color='blue'>Algorithm with Vanilla update of weights</font>"
   ]
  },
  {
   "cell_type": "code",
   "execution_count": 0,
   "metadata": {
    "colab": {},
    "colab_type": "code",
    "id": "uucCdyQrGhZt"
   },
   "outputs": [],
   "source": [
    "gamma = 0.9\n",
    "alpha = 0.0001\n",
    "w=np.ones(9)*0.1 \n",
    "loss_momentum = []\n",
    "epochs = []\n",
    "f = forward_propagation(X[i],y[i],w)\n",
    "b = backward_propagation(X[i],w,f)\n",
    "dw = [j for i,j in b.items()]\n",
    "for n in range(100):\n",
    "    \n",
    "    \n",
    "    for i in range(X.shape[0]):\n",
    "        v1 = alpha*b['dw1']\n",
    "        w[0] -= v1 \n",
    "        v2 = gamma*v1 + alpha*b['dw2'] \n",
    "        w[1] -= v2\n",
    "        v3 = gamma*v2 + alpha*b['dw3']\n",
    "        w[2] -= v3\n",
    "        v4 = gamma*v3 + alpha *b['dw4']\n",
    "        w[3] -= v4\n",
    "        v5 = gamma*v4 + alpha*b['dw5']\n",
    "        w[4] -= v5\n",
    "        v6 = gamma*v5 + alpha*b['dw6']\n",
    "        w[5] -= v6\n",
    "        v7 = gamma*v6 + alpha * b['dw7']\n",
    "        w[6] -= v7\n",
    "        v8 = gamma*v7 + alpha*b['dw8']\n",
    "        w[7] -= v8\n",
    "        v9 = gamma*v8 + alpha*b['dw9']\n",
    "        w[8] -= v9\n",
    "    f = forward_propagation(X[i],y[i],w)\n",
    "    b = backward_propagation(X[i],w,f)\n",
    "    loss_momentum.append(f['loss'])\n",
    "    epochs.append(n)"
   ]
  },
  {
   "cell_type": "markdown",
   "metadata": {
    "colab_type": "text",
    "id": "Ow20azfKlVhn"
   },
   "source": [
    "<font color='blue'>Plot between epochs and loss</font>"
   ]
  },
  {
   "cell_type": "code",
   "execution_count": 0,
   "metadata": {
    "colab": {},
    "colab_type": "code",
    "id": "u-m90Sq_Ghce",
    "outputId": "2f6236f9-f407-4bc8-8905-83cab82da3d0"
   },
   "outputs": [
    {
     "data": {
      "text/plain": [
       "Text(0.5, 1.0, 'epochs vs loss')"
      ]
     },
     "execution_count": 15,
     "metadata": {
      "tags": []
     },
     "output_type": "execute_result"
    },
    {
     "data": {
      "image/png": "[encoded data removed]",
      "text/plain": [
       "<Figure size 432x288 with 1 Axes>"
      ]
     },
     "metadata": {
      "needs_background": "light",
      "tags": []
     },
     "output_type": "display_data"
    }
   ],
   "source": [
    "plt.plot(epochs,loss_momentum,c='r')\n",
    "\n",
    "plt.grid()\n",
    "plt.xlabel('Epochs')\n",
    "plt.ylabel('loss')\n",
    "plt.title('epochs vs loss')"
   ]
  },
  {
   "cell_type": "markdown",
   "metadata": {
    "colab_type": "text",
    "id": "V4RWWrZ7lWap"
   },
   "source": [
    "###<font color='blue'>Algorithm with Adam update of weights</font>"
   ]
  },
  {
   "cell_type": "code",
   "execution_count": 0,
   "metadata": {
    "colab": {},
    "colab_type": "code",
    "id": "RPSluO4yGRAy"
   },
   "outputs": [],
   "source": [
    "def formula(e,m,v):\n",
    "    return m/(math.sqrt(v+e))"
   ]
  },
  {
   "cell_type": "code",
   "execution_count": 0,
   "metadata": {
    "colab": {},
    "colab_type": "code",
    "id": "72rRC8rJGhf5"
   },
   "outputs": [],
   "source": [
    "epsilon = (10)**(-8)\n",
    "b1 = 0.9\n",
    "b2 = 0.99\n",
    "w=np.ones(9)*0.1 \n",
    "loss_adam= []\n",
    "epochs = []\n",
    "\n",
    "m = 0\n",
    "v = 0\n",
    "for e in range(100):\n",
    "    for i in range(X.shape[0]):\n",
    "        f = forward_propagation(X[i],y[i],w)\n",
    "        b = backward_propagation(X[i],w,f)\n",
    "        dw = [j for i,j in b.items()]\n",
    "        for w_i in range(len(w)):\n",
    "            m =m*b1 + (1-b1)*dw[w_i]\n",
    "            v = v*b2 + (1-b2)*(dw[w_i]**2)\n",
    "            m_dash = m/(1-(b1**(e+1)))\n",
    "            v_dash = v/(1-(b2**(e+1)))\n",
    "            w[w_i] -= (0.001*m_dash)/(math.sqrt(v_dash+epsilon))\n",
    "            \n",
    "\n",
    "    loss_adam.append(f['loss'])\n",
    "    epochs.append(e)\n",
    "            \n",
    "\n"
   ]
  },
  {
   "cell_type": "markdown",
   "metadata": {
    "colab_type": "text",
    "id": "MMy0nBw-lXml"
   },
   "source": [
    "<font color='blue'>Plot between epochs and loss</font>"
   ]
  },
  {
   "cell_type": "code",
   "execution_count": 0,
   "metadata": {
    "colab": {},
    "colab_type": "code",
    "id": "aiFRk_uFlm2V",
    "outputId": "c005f68e-1648-4c2e-95b8-5747fdf8615d"
   },
   "outputs": [
    {
     "data": {
      "text/plain": [
       "Text(0.5, 1.0, 'epochs vs loss')"
      ]
     },
     "execution_count": 18,
     "metadata": {
      "tags": []
     },
     "output_type": "execute_result"
    },
    {
     "data": {
      "image/png": "[encoded data removed]",
      "text/plain": [
       "<Figure size 432x288 with 1 Axes>"
      ]
     },
     "metadata": {
      "needs_background": "light",
      "tags": []
     },
     "output_type": "display_data"
    }
   ],
   "source": [
    "plt.plot(epochs,loss_adam,c='g')\n",
    "plt.grid()\n",
    "plt.xlabel(\"epochs\")\n",
    "plt.ylabel(\"loss\")\n",
    "plt.title(\"epochs vs loss\")\n"
   ]
  },
  {
   "cell_type": "markdown",
   "metadata": {
    "colab_type": "text",
    "id": "7627cy8YlnYO"
   },
   "source": [
    "<font color='blue'>Comparision plot between epochs and loss with different optimizers</font>"
   ]
  },
  {
   "cell_type": "code",
   "execution_count": 0,
   "metadata": {
    "colab": {},
    "colab_type": "code",
    "id": "Nj97o2l7GRA8"
   },
   "outputs": [],
   "source": [
    "epo = [i for i in range(100)]"
   ]
  },
  {
   "cell_type": "code",
   "execution_count": 0,
   "metadata": {
    "colab": {},
    "colab_type": "code",
    "id": "scleSfIXl_bC",
    "outputId": "e35462d6-a999-4eea-d149-3143f4bca4b4"
   },
   "outputs": [
    {
     "data": {
      "text/plain": [
       "Text(0.5, 1.0, 'epochs vs loss')"
      ]
     },
     "execution_count": 20,
     "metadata": {
      "tags": []
     },
     "output_type": "execute_result"
    },
    {
     "data": {
      "image/png": "[encoded data removed]",
      "text/plain": [
       "<Figure size 432x288 with 1 Axes>"
      ]
     },
     "metadata": {
      "needs_background": "light",
      "tags": []
     },
     "output_type": "display_data"
    }
   ],
   "source": [
    "plt.plot(epo,loss_vanilla,label = 'vanilla')\n",
    "plt.plot(epo,loss_momentum,label = 'momentum')\n",
    "plt.plot(epo,loss_adam,label = 'adam')\n",
    "plt.legend()\n",
    "plt.grid()\n",
    "plt.xlabel('Epochs')\n",
    "plt.ylabel('loss')\n",
    "plt.title('epochs vs loss')"
   ]
  }
 ],
 "metadata": {
  "colab": {
   "collapsed_sections": [],
   "name": "Backpropagation_assignment.ipynb",
   "provenance": [],
   "toc_visible": true
  },
  "kernelspec": {
   "display_name": "Python 3",
   "language": "python",
   "name": "python3"
  },
  "language_info": {
   "codemirror_mode": {
    "name": "ipython",
    "version": 3
   },
   "file_extension": ".py",
   "mimetype": "text/x-python",
   "name": "python",
   "nbconvert_exporter": "python",
   "pygments_lexer": "ipython3",
   "version": "3.7.9"
  }
 },
 "nbformat": 4,
 "nbformat_minor": 1
}
